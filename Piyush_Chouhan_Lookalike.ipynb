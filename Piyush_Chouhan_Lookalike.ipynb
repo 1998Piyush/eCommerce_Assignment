{
 "cells": [
  {
   "cell_type": "markdown",
   "metadata": {},
   "source": [
    "# Piyush_Chouhan_Lookalike.ipynb\n",
    "\n",
    "# Task 2: Lookalike Model\n",
    "\n",
    "The goal of this notebook is to:\n",
    "1. Use customer and transaction data to recommend 3 similar customers for each user.\n",
    "2. Use a similarity measure to assign scores to recommended customers.\n",
    "3. Generate a CSV file with recommendations for the first 20 customers.\n",
    "\n",
    "---"
   ]
  },
  {
   "cell_type": "code",
   "execution_count": 2,
   "metadata": {},
   "outputs": [],
   "source": [
    "# Import necessary libraries\n",
    "import pandas as pd\n",
    "from sklearn.metrics.pairwise import cosine_similarity\n",
    "from sklearn.preprocessing import StandardScaler\n",
    "import numpy as np"
   ]
  },
  {
   "cell_type": "markdown",
   "metadata": {},
   "source": [
    "## Step 2: Load the Data\n",
    "We will load the `Customers.csv`, `Products.csv`, and `Transactions.csv` datasets."
   ]
  },
  {
   "cell_type": "code",
   "execution_count": 3,
   "metadata": {},
   "outputs": [
    {
     "name": "stdout",
     "output_type": "stream",
     "text": [
      "Customers:\n",
      "  CustomerID        CustomerName         Region  SignupDate\n",
      "0      C0001    Lawrence Carroll  South America  2022-07-10\n",
      "1      C0002      Elizabeth Lutz           Asia  2022-02-13\n",
      "2      C0003      Michael Rivera  South America  2024-03-07\n",
      "3      C0004  Kathleen Rodriguez  South America  2022-10-09\n",
      "4      C0005         Laura Weber           Asia  2022-08-15\n",
      "\n",
      "Transactions:\n",
      "  TransactionID CustomerID ProductID      TransactionDate  Quantity  \\\n",
      "0        T00001      C0199      P067  2024-08-25 12:38:23         1   \n",
      "1        T00112      C0146      P067  2024-05-27 22:23:54         1   \n",
      "2        T00166      C0127      P067  2024-04-25 07:38:55         1   \n",
      "3        T00272      C0087      P067  2024-03-26 22:55:37         2   \n",
      "4        T00363      C0070      P067  2024-03-21 15:10:10         3   \n",
      "\n",
      "   TotalValue   Price  \n",
      "0      300.68  300.68  \n",
      "1      300.68  300.68  \n",
      "2      300.68  300.68  \n",
      "3      601.36  300.68  \n",
      "4      902.04  300.68  \n",
      "\n",
      "Products:\n",
      "  ProductID              ProductName     Category   Price\n",
      "0      P001     ActiveWear Biography        Books  169.30\n",
      "1      P002    ActiveWear Smartwatch  Electronics  346.30\n",
      "2      P003  ComfortLiving Biography        Books   44.12\n",
      "3      P004            BookWorld Rug   Home Decor   95.69\n",
      "4      P005          TechPro T-Shirt     Clothing  429.31\n"
     ]
    }
   ],
   "source": [
    "# Load datasets\n",
    "customers = pd.read_csv('Customers.csv')\n",
    "transactions = pd.read_csv('Transactions.csv')\n",
    "products = pd.read_csv('Products.csv')\n",
    "\n",
    "# Display the first few rows of each dataset\n",
    "print(\"Customers:\")\n",
    "print(customers.head())\n",
    "\n",
    "print(\"\\nTransactions:\")\n",
    "print(transactions.head())\n",
    "\n",
    "print(\"\\nProducts:\")\n",
    "print(products.head())"
   ]
  },
  {
   "cell_type": "markdown",
   "metadata": {},
   "source": [
    "## Step 3: Preprocess the Data\n",
    "We will:\n",
    "1. Merge the datasets to create a complete customer profile.\n",
    "2. Aggregate the data to generate a transaction history per customer."
   ]
  },
  {
   "cell_type": "code",
   "execution_count": 4,
   "metadata": {},
   "outputs": [
    {
     "name": "stdout",
     "output_type": "stream",
     "text": [
      "Customer Profile:\n",
      "Category      Books  Clothing  Electronics  Home Decor\n",
      "CustomerID                                            \n",
      "C0001        114.60      0.00      2827.30      412.62\n",
      "C0002          0.00   1025.46         0.00      837.28\n",
      "C0003          0.00    122.36      1385.20     1217.82\n",
      "C0004       1888.48      0.00      1355.74     2110.66\n",
      "C0005          0.00      0.00      1180.38      853.86\n"
     ]
    }
   ],
   "source": [
    "# Merge transactions with products\n",
    "merged_data = pd.merge(transactions, products, on='ProductID')\n",
    "\n",
    "# Aggregate transaction data to get total value per customer for each product category\n",
    "customer_profile = merged_data.groupby(['CustomerID', 'Category'])['TotalValue'].sum().unstack(fill_value=0)\n",
    "\n",
    "# Display the aggregated customer profile\n",
    "print(\"Customer Profile:\")\n",
    "print(customer_profile.head())"
   ]
  },
  {
   "cell_type": "markdown",
   "metadata": {},
   "source": [
    "## Step 4: Compute Similarities\n",
    "We will:\n",
    "1. Normalize the customer profiles using `StandardScaler`.\n",
    "2. Use cosine similarity to compute pairwise similarity scores between customers."
   ]
  },
  {
   "cell_type": "code",
   "execution_count": 5,
   "metadata": {},
   "outputs": [
    {
     "name": "stdout",
     "output_type": "stream",
     "text": [
      "Similarity Matrix:\n",
      "CustomerID     C0001     C0002     C0003     C0004     C0005     C0006  \\\n",
      "CustomerID                                                               \n",
      "C0001       1.000000 -0.402215  0.648350  0.043313  0.661203 -0.960708   \n",
      "C0002      -0.402215  1.000000  0.175482 -0.446094  0.257825  0.235584   \n",
      "C0003       0.648350  0.175482  1.000000  0.328565  0.932178 -0.734670   \n",
      "C0004       0.043313 -0.446094  0.328565  1.000000  0.092857 -0.005891   \n",
      "C0005       0.661203  0.257825  0.932178  0.092857  1.000000 -0.814067   \n",
      "\n",
      "CustomerID     C0007     C0008     C0009     C0010  ...     C0191     C0192  \\\n",
      "CustomerID                                          ...                       \n",
      "C0001       0.637812 -0.268011  0.171019 -0.381244  ... -0.059019  0.830892   \n",
      "C0002       0.166689  0.470266  0.588281  0.703980  ... -0.527737 -0.050379   \n",
      "C0003       0.996881  0.202597  0.198752 -0.372100  ... -0.448319  0.462407   \n",
      "C0004       0.347577  0.112209 -0.725347 -0.913367  ...  0.068221 -0.451726   \n",
      "C0005       0.945695 -0.065768  0.508871 -0.144782  ... -0.240979  0.657526   \n",
      "\n",
      "CustomerID     C0193     C0194     C0195     C0196     C0197     C0198  \\\n",
      "CustomerID                                                               \n",
      "C0001      -0.382490  0.576188 -0.030011 -0.719949  0.461473 -0.173126   \n",
      "C0002      -0.374197  0.036706  0.426021  0.311911  0.409603  0.762741   \n",
      "C0003      -0.605579  0.316061  0.610345 -0.146110  0.919496 -0.064460   \n",
      "C0004       0.104261 -0.379710  0.422922  0.433344  0.165504 -0.839495   \n",
      "C0005      -0.431373  0.220120  0.349060 -0.392847  0.967956  0.213940   \n",
      "\n",
      "CustomerID     C0199     C0200  \n",
      "CustomerID                      \n",
      "C0001       0.165667 -0.756913  \n",
      "C0002       0.522735  0.116516  \n",
      "C0003       0.840167 -0.867465  \n",
      "C0004       0.330655 -0.335804  \n",
      "C0005       0.817298 -0.918261  \n",
      "\n",
      "[5 rows x 199 columns]\n"
     ]
    }
   ],
   "source": [
    "# Normalize the customer profile data\n",
    "scaler = StandardScaler()\n",
    "normalized_data = scaler.fit_transform(customer_profile)\n",
    "\n",
    "# Compute cosine similarity between customers\n",
    "similarity_matrix = cosine_similarity(normalized_data)\n",
    "\n",
    "# Create a DataFrame for the similarity matrix\n",
    "similarity_df = pd.DataFrame(similarity_matrix, index=customer_profile.index, columns=customer_profile.index)\n",
    "\n",
    "# Display a sample of the similarity matrix\n",
    "print(\"Similarity Matrix:\")\n",
    "print(similarity_df.head())"
   ]
  },
  {
   "cell_type": "markdown",
   "metadata": {},
   "source": [
    "## Step 5: Recommend Top 3 Lookalike Customers\n",
    "We will:\n",
    "1. Find the top 3 most similar customers for each customer.\n",
    "2. Store the results in a dictionary."
   ]
  },
  {
   "cell_type": "code",
   "execution_count": 6,
   "metadata": {},
   "outputs": [
    {
     "name": "stdout",
     "output_type": "stream",
     "text": [
      "Lookalike Recommendations:\n",
      "C0001: [['C0091', 0.9888478853919913], ['C0069', 0.9843439691570108], ['C0184', 0.9785619388073006]]\n",
      "C0002: [['C0159', 0.9795105096869298], ['C0036', 0.9567623389803885], ['C0134', 0.9079308367148381]]\n",
      "C0003: [['C0007', 0.9968810093511232], ['C0085', 0.9640463999694346], ['C0166', 0.9603809339360593]]\n",
      "C0004: [['C0075', 0.9832140510191636], ['C0090', 0.9205815444205002], ['C0065', 0.8848698960012958]]\n",
      "C0005: [['C0197', 0.9679556789053673], ['C0085', 0.9638213905900722], ['C0166', 0.9498424445847362]]\n",
      "C0006: [['C0169', 0.9704006342294953], ['C0185', 0.9294489990803511], ['C0081', 0.9274392104956387]]\n",
      "C0007: [['C0003', 0.9968810093511232], ['C0085', 0.9790544159375512], ['C0166', 0.9584810984308859]]\n",
      "C0008: [['C0143', 0.9757288678444452], ['C0158', 0.953510746297948], ['C0170', 0.9505172118501191]]\n",
      "C0009: [['C0032', 0.9803022627726677], ['C0058', 0.9683007773908333], ['C0150', 0.9614456236906473]]\n",
      "C0010: [['C0029', 0.9976752433133421], ['C0062', 0.9804016075245915], ['C0111', 0.9801805189388902]]\n",
      "C0011: [['C0117', 0.963973419326239], ['C0016', 0.9632077461792568], ['C0074', 0.9510195409647744]]\n",
      "C0012: [['C0148', 0.9884792503556856], ['C0152', 0.9539841832634688], ['C0113', 0.9513290068238263]]\n",
      "C0013: [['C0046', 0.9814947146937686], ['C0099', 0.9465853217128836], ['C0117', 0.919516728582664]]\n",
      "C0014: [['C0151', 0.9979207390553534], ['C0097', 0.9927491228970107], ['C0060', 0.9880496411636847]]\n",
      "C0015: [['C0071', 0.976486876158439], ['C0121', 0.9723159872874918], ['C0025', 0.9688259324918211]]\n",
      "C0016: [['C0011', 0.9632077461792568], ['C0117', 0.9247869590037776], ['C0074', 0.8760745705780278]]\n",
      "C0017: [['C0179', 0.8911139153655481], ['C0122', 0.8887860009610975], ['C0064', 0.8670294480943582]]\n",
      "C0018: [['C0023', 0.9823466564399504], ['C0051', 0.9772356807245444], ['C0168', 0.9765757848964493]]\n",
      "C0019: [['C0035', 0.9383055966012707], ['C0177', 0.9136577573845739], ['C0070', 0.8877945815992546]]\n",
      "C0020: [['C0130', 0.9794407284463068], ['C0094', 0.955158720476758], ['C0032', 0.9273591770429713]]\n"
     ]
    }
   ],
   "source": [
    "# Function to get top 3 similar customers\n",
    "def get_top_3_similar(customer_id):\n",
    "    # Exclude the customer itself (similarity = 1.0)\n",
    "    similar_customers = similarity_df[customer_id].drop(customer_id)\n",
    "    # Get the top 3 similar customers and their scores\n",
    "    top_3 = similar_customers.nlargest(3).reset_index()\n",
    "    top_3.columns = ['CustomerID', 'SimilarityScore']\n",
    "    return top_3\n",
    "\n",
    "# Generate recommendations for the first 20 customers\n",
    "recommendations = {}\n",
    "for customer_id in similarity_df.index[:20]:\n",
    "    recommendations[customer_id] = get_top_3_similar(customer_id).values.tolist()\n",
    "\n",
    "# Display recommendations for the first few customers\n",
    "print(\"Lookalike Recommendations:\")\n",
    "for key, value in recommendations.items():\n",
    "    print(f\"{key}: {value}\")"
   ]
  },
  {
   "cell_type": "markdown",
   "metadata": {},
   "source": [
    "## Step 6: Save Recommendations to CSV\n",
    "We will save the recommendations as `Piyush_Chouhan_Lookalike.csv`."
   ]
  },
  {
   "cell_type": "code",
   "execution_count": 7,
   "metadata": {},
   "outputs": [
    {
     "name": "stdout",
     "output_type": "stream",
     "text": [
      "Recommendations saved to Piyush_Chouhan_Lookalike.csv\n"
     ]
    }
   ],
   "source": [
    "# Prepare data for CSV export\n",
    "recommendation_list = []\n",
    "for customer, similar_customers in recommendations.items():\n",
    "    for similar_customer, score in similar_customers:\n",
    "        recommendation_list.append([customer, similar_customer, score])\n",
    "\n",
    "# Create a DataFrame\n",
    "recommendation_df = pd.DataFrame(recommendation_list, columns=['CustomerID', 'SimilarCustomerID', 'SimilarityScore'])\n",
    "\n",
    "# Save to CSV\n",
    "recommendation_df.to_csv('Piyush_Chouhan_Lookalike.csv', index=False)\n",
    "\n",
    "print(\"Recommendations saved to Piyush_Chouhan_Lookalike.csv\")"
   ]
  }
 ],
 "metadata": {
  "kernelspec": {
   "display_name": "Python 3",
   "language": "python",
   "name": "python3"
  },
  "language_info": {
   "codemirror_mode": {
    "name": "ipython",
    "version": 3
   },
   "file_extension": ".py",
   "mimetype": "text/x-python",
   "name": "python",
   "nbconvert_exporter": "python",
   "pygments_lexer": "ipython3",
   "version": "3.12.2"
  }
 },
 "nbformat": 4,
 "nbformat_minor": 2
}
